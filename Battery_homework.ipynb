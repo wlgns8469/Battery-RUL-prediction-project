{
 "cells": [
  {
   "cell_type": "code",
   "execution_count": 2,
   "id": "8bddcfeb",
   "metadata": {},
   "outputs": [],
   "source": [
    "import pandas as pd\n",
    "from matplotlib import pyplot as plt\n",
    "from sklearn.metrics import accuracy_score\n",
    "from sklearn.ensemble import RandomForestClassifier\n",
    "from sklearn.ensemble import GradientBoostingClassifier\n",
    "from sklearn.tree import DecisionTreeClassifier\n",
    "from sklearn.ensemble import VotingClassifier\n",
    "from sklearn.ensemble import RandomForestClassifier\n",
    "import numpy as np"
   ]
  },
  {
   "cell_type": "code",
   "execution_count": 3,
   "id": "ecded49c",
   "metadata": {},
   "outputs": [],
   "source": [
    "data = pd.read_csv('battery4.csv')"
   ]
  },
  {
   "cell_type": "code",
   "execution_count": 4,
   "id": "95a094a8",
   "metadata": {},
   "outputs": [],
   "source": [
    "data.iloc[360:,16:] = data.iloc[360:,16:]+0.002\n",
    "data.iloc[370:,16:] = data.iloc[370:,16:]+0.002\n",
    "data.iloc[375:,16:] = data.iloc[375:,16:]+0.0025\n",
    "data.iloc[380:,16:] = data.iloc[380:,16:]+0.0025\n",
    "data.iloc[385:,16:] = data.iloc[385:,16:]+0.0025\n",
    "data.iloc[390:,16:] = data.iloc[390:,16:]+0.0025\n",
    "data.iloc[395:,16:] = data.iloc[395:,16:]+0.0045\n",
    "data.iloc[400:,16:] = data.iloc[400:,16:]+0.0045\n",
    "data.iloc[410:,16:] = data.iloc[410:,16:]+0.0045\n",
    "data.iloc[415:,16:] = data.iloc[415:,16:]+0.0045\n",
    "data.iloc[420:,16:] = data.iloc[420:,16:]+0.0045\n",
    "data.iloc[425:,16:] = data.iloc[425:,16:]+0.0045\n",
    "data.iloc[430:,16:] = data.iloc[430:,16:]+0.0045\n",
    "data.iloc[435:,16:] = data.iloc[435:,16:]+0.0045\n",
    "data.iloc[440:,16:] = data.iloc[440:,16:]+0.0045\n",
    "data.iloc[445:,16:] = data.iloc[445:,16:]+0.0045\n",
    "data.iloc[450:,16:] = data.iloc[450:,16:]+0.0045"
   ]
  },
  {
   "cell_type": "code",
   "execution_count": 5,
   "id": "e62eff65",
   "metadata": {},
   "outputs": [
    {
     "data": {
      "text/html": [
       "<div>\n",
       "<style scoped>\n",
       "    .dataframe tbody tr th:only-of-type {\n",
       "        vertical-align: middle;\n",
       "    }\n",
       "\n",
       "    .dataframe tbody tr th {\n",
       "        vertical-align: top;\n",
       "    }\n",
       "\n",
       "    .dataframe thead th {\n",
       "        text-align: right;\n",
       "    }\n",
       "</style>\n",
       "<table border=\"1\" class=\"dataframe\">\n",
       "  <thead>\n",
       "    <tr style=\"text-align: right;\">\n",
       "      <th></th>\n",
       "      <th>1</th>\n",
       "      <th>2</th>\n",
       "      <th>3</th>\n",
       "      <th>4</th>\n",
       "      <th>5</th>\n",
       "      <th>6</th>\n",
       "      <th>7</th>\n",
       "      <th>8</th>\n",
       "      <th>9</th>\n",
       "      <th>10</th>\n",
       "      <th>...</th>\n",
       "      <th>29</th>\n",
       "      <th>30</th>\n",
       "      <th>31</th>\n",
       "      <th>32</th>\n",
       "      <th>33</th>\n",
       "      <th>34</th>\n",
       "      <th>35</th>\n",
       "      <th>36</th>\n",
       "      <th>37</th>\n",
       "      <th>38</th>\n",
       "    </tr>\n",
       "  </thead>\n",
       "  <tbody>\n",
       "    <tr>\n",
       "      <th>0</th>\n",
       "      <td>1.093864</td>\n",
       "      <td>1.053779</td>\n",
       "      <td>1.061124</td>\n",
       "      <td>1.072052</td>\n",
       "      <td>1.085115</td>\n",
       "      <td>1.084768</td>\n",
       "      <td>1.079873</td>\n",
       "      <td>1.072951</td>\n",
       "      <td>1.077832</td>\n",
       "      <td>1.076617</td>\n",
       "      <td>...</td>\n",
       "      <td>1.048037</td>\n",
       "      <td>1.068739</td>\n",
       "      <td>1.079052</td>\n",
       "      <td>1.065647</td>\n",
       "      <td>1.072897</td>\n",
       "      <td>1.073279</td>\n",
       "      <td>1.078461</td>\n",
       "      <td>1.074521</td>\n",
       "      <td>1.080285</td>\n",
       "      <td>1.073539</td>\n",
       "    </tr>\n",
       "    <tr>\n",
       "      <th>1</th>\n",
       "      <td>1.095110</td>\n",
       "      <td>1.055032</td>\n",
       "      <td>1.062743</td>\n",
       "      <td>1.073284</td>\n",
       "      <td>1.086302</td>\n",
       "      <td>1.086073</td>\n",
       "      <td>1.081349</td>\n",
       "      <td>1.074008</td>\n",
       "      <td>1.079117</td>\n",
       "      <td>1.077839</td>\n",
       "      <td>...</td>\n",
       "      <td>1.048029</td>\n",
       "      <td>1.070214</td>\n",
       "      <td>1.079789</td>\n",
       "      <td>1.069589</td>\n",
       "      <td>1.074119</td>\n",
       "      <td>1.074917</td>\n",
       "      <td>1.079322</td>\n",
       "      <td>1.076363</td>\n",
       "      <td>1.081616</td>\n",
       "      <td>1.075482</td>\n",
       "    </tr>\n",
       "    <tr>\n",
       "      <th>2</th>\n",
       "      <td>1.095954</td>\n",
       "      <td>1.055879</td>\n",
       "      <td>1.063727</td>\n",
       "      <td>1.073923</td>\n",
       "      <td>1.086993</td>\n",
       "      <td>1.086794</td>\n",
       "      <td>1.082160</td>\n",
       "      <td>1.074338</td>\n",
       "      <td>1.079908</td>\n",
       "      <td>1.078287</td>\n",
       "      <td>...</td>\n",
       "      <td>1.049100</td>\n",
       "      <td>1.071219</td>\n",
       "      <td>1.081907</td>\n",
       "      <td>1.070322</td>\n",
       "      <td>1.074464</td>\n",
       "      <td>1.076030</td>\n",
       "      <td>1.081835</td>\n",
       "      <td>1.077149</td>\n",
       "      <td>1.082426</td>\n",
       "      <td>1.076341</td>\n",
       "    </tr>\n",
       "    <tr>\n",
       "      <th>3</th>\n",
       "      <td>1.096473</td>\n",
       "      <td>1.056445</td>\n",
       "      <td>1.064625</td>\n",
       "      <td>1.074507</td>\n",
       "      <td>1.087482</td>\n",
       "      <td>1.087259</td>\n",
       "      <td>1.082676</td>\n",
       "      <td>1.074802</td>\n",
       "      <td>1.080498</td>\n",
       "      <td>1.078532</td>\n",
       "      <td>...</td>\n",
       "      <td>1.049680</td>\n",
       "      <td>1.071343</td>\n",
       "      <td>1.081973</td>\n",
       "      <td>1.072234</td>\n",
       "      <td>1.075239</td>\n",
       "      <td>1.076564</td>\n",
       "      <td>1.082127</td>\n",
       "      <td>1.076919</td>\n",
       "      <td>1.082781</td>\n",
       "      <td>1.076367</td>\n",
       "    </tr>\n",
       "    <tr>\n",
       "      <th>4</th>\n",
       "      <td>1.096961</td>\n",
       "      <td>1.057079</td>\n",
       "      <td>1.065286</td>\n",
       "      <td>1.074894</td>\n",
       "      <td>1.087778</td>\n",
       "      <td>1.087622</td>\n",
       "      <td>1.082917</td>\n",
       "      <td>1.075244</td>\n",
       "      <td>1.080784</td>\n",
       "      <td>1.078815</td>\n",
       "      <td>...</td>\n",
       "      <td>1.049286</td>\n",
       "      <td>1.071758</td>\n",
       "      <td>1.082556</td>\n",
       "      <td>1.069982</td>\n",
       "      <td>1.075158</td>\n",
       "      <td>1.077193</td>\n",
       "      <td>1.082861</td>\n",
       "      <td>1.077425</td>\n",
       "      <td>1.082832</td>\n",
       "      <td>1.076983</td>\n",
       "    </tr>\n",
       "    <tr>\n",
       "      <th>...</th>\n",
       "      <td>...</td>\n",
       "      <td>...</td>\n",
       "      <td>...</td>\n",
       "      <td>...</td>\n",
       "      <td>...</td>\n",
       "      <td>...</td>\n",
       "      <td>...</td>\n",
       "      <td>...</td>\n",
       "      <td>...</td>\n",
       "      <td>...</td>\n",
       "      <td>...</td>\n",
       "      <td>...</td>\n",
       "      <td>...</td>\n",
       "      <td>...</td>\n",
       "      <td>...</td>\n",
       "      <td>...</td>\n",
       "      <td>...</td>\n",
       "      <td>...</td>\n",
       "      <td>...</td>\n",
       "      <td>...</td>\n",
       "      <td>...</td>\n",
       "    </tr>\n",
       "    <tr>\n",
       "      <th>495</th>\n",
       "      <td>1.070990</td>\n",
       "      <td>1.036515</td>\n",
       "      <td>1.039699</td>\n",
       "      <td>1.058989</td>\n",
       "      <td>1.053314</td>\n",
       "      <td>0.999587</td>\n",
       "      <td>1.040817</td>\n",
       "      <td>1.017522</td>\n",
       "      <td>1.042987</td>\n",
       "      <td>1.051578</td>\n",
       "      <td>...</td>\n",
       "      <td>NaN</td>\n",
       "      <td>0.956240</td>\n",
       "      <td>0.984190</td>\n",
       "      <td>0.937571</td>\n",
       "      <td>NaN</td>\n",
       "      <td>0.933819</td>\n",
       "      <td>NaN</td>\n",
       "      <td>0.985581</td>\n",
       "      <td>0.922828</td>\n",
       "      <td>NaN</td>\n",
       "    </tr>\n",
       "    <tr>\n",
       "      <th>496</th>\n",
       "      <td>1.070811</td>\n",
       "      <td>1.037011</td>\n",
       "      <td>1.039902</td>\n",
       "      <td>1.058679</td>\n",
       "      <td>1.052916</td>\n",
       "      <td>0.998971</td>\n",
       "      <td>1.038373</td>\n",
       "      <td>1.017094</td>\n",
       "      <td>1.042665</td>\n",
       "      <td>1.051510</td>\n",
       "      <td>...</td>\n",
       "      <td>NaN</td>\n",
       "      <td>0.955052</td>\n",
       "      <td>0.982451</td>\n",
       "      <td>0.935226</td>\n",
       "      <td>NaN</td>\n",
       "      <td>0.931167</td>\n",
       "      <td>NaN</td>\n",
       "      <td>0.984172</td>\n",
       "      <td>0.921494</td>\n",
       "      <td>NaN</td>\n",
       "    </tr>\n",
       "    <tr>\n",
       "      <th>497</th>\n",
       "      <td>1.070715</td>\n",
       "      <td>1.035926</td>\n",
       "      <td>1.039532</td>\n",
       "      <td>1.058430</td>\n",
       "      <td>1.052568</td>\n",
       "      <td>0.997573</td>\n",
       "      <td>1.037503</td>\n",
       "      <td>1.016551</td>\n",
       "      <td>1.042589</td>\n",
       "      <td>1.051043</td>\n",
       "      <td>...</td>\n",
       "      <td>NaN</td>\n",
       "      <td>0.954412</td>\n",
       "      <td>0.980686</td>\n",
       "      <td>0.933872</td>\n",
       "      <td>NaN</td>\n",
       "      <td>0.929810</td>\n",
       "      <td>NaN</td>\n",
       "      <td>0.982880</td>\n",
       "      <td>0.919959</td>\n",
       "      <td>NaN</td>\n",
       "    </tr>\n",
       "    <tr>\n",
       "      <th>498</th>\n",
       "      <td>1.070557</td>\n",
       "      <td>1.035880</td>\n",
       "      <td>1.039491</td>\n",
       "      <td>1.058264</td>\n",
       "      <td>1.052306</td>\n",
       "      <td>0.996256</td>\n",
       "      <td>1.038974</td>\n",
       "      <td>1.015924</td>\n",
       "      <td>1.041990</td>\n",
       "      <td>1.048896</td>\n",
       "      <td>...</td>\n",
       "      <td>NaN</td>\n",
       "      <td>0.953712</td>\n",
       "      <td>0.978747</td>\n",
       "      <td>0.931615</td>\n",
       "      <td>NaN</td>\n",
       "      <td>0.927685</td>\n",
       "      <td>NaN</td>\n",
       "      <td>0.981604</td>\n",
       "      <td>0.918676</td>\n",
       "      <td>NaN</td>\n",
       "    </tr>\n",
       "    <tr>\n",
       "      <th>499</th>\n",
       "      <td>1.070603</td>\n",
       "      <td>1.035838</td>\n",
       "      <td>1.039918</td>\n",
       "      <td>1.058154</td>\n",
       "      <td>1.052089</td>\n",
       "      <td>0.993947</td>\n",
       "      <td>1.039102</td>\n",
       "      <td>1.015411</td>\n",
       "      <td>1.041599</td>\n",
       "      <td>1.050228</td>\n",
       "      <td>...</td>\n",
       "      <td>NaN</td>\n",
       "      <td>0.952775</td>\n",
       "      <td>0.977111</td>\n",
       "      <td>0.930279</td>\n",
       "      <td>NaN</td>\n",
       "      <td>0.925130</td>\n",
       "      <td>NaN</td>\n",
       "      <td>0.980016</td>\n",
       "      <td>0.917053</td>\n",
       "      <td>NaN</td>\n",
       "    </tr>\n",
       "  </tbody>\n",
       "</table>\n",
       "<p>500 rows × 37 columns</p>\n",
       "</div>"
      ],
      "text/plain": [
       "            1         2         3         4         5         6         7  \\\n",
       "0    1.093864  1.053779  1.061124  1.072052  1.085115  1.084768  1.079873   \n",
       "1    1.095110  1.055032  1.062743  1.073284  1.086302  1.086073  1.081349   \n",
       "2    1.095954  1.055879  1.063727  1.073923  1.086993  1.086794  1.082160   \n",
       "3    1.096473  1.056445  1.064625  1.074507  1.087482  1.087259  1.082676   \n",
       "4    1.096961  1.057079  1.065286  1.074894  1.087778  1.087622  1.082917   \n",
       "..        ...       ...       ...       ...       ...       ...       ...   \n",
       "495  1.070990  1.036515  1.039699  1.058989  1.053314  0.999587  1.040817   \n",
       "496  1.070811  1.037011  1.039902  1.058679  1.052916  0.998971  1.038373   \n",
       "497  1.070715  1.035926  1.039532  1.058430  1.052568  0.997573  1.037503   \n",
       "498  1.070557  1.035880  1.039491  1.058264  1.052306  0.996256  1.038974   \n",
       "499  1.070603  1.035838  1.039918  1.058154  1.052089  0.993947  1.039102   \n",
       "\n",
       "            8         9        10  ...        29        30        31  \\\n",
       "0    1.072951  1.077832  1.076617  ...  1.048037  1.068739  1.079052   \n",
       "1    1.074008  1.079117  1.077839  ...  1.048029  1.070214  1.079789   \n",
       "2    1.074338  1.079908  1.078287  ...  1.049100  1.071219  1.081907   \n",
       "3    1.074802  1.080498  1.078532  ...  1.049680  1.071343  1.081973   \n",
       "4    1.075244  1.080784  1.078815  ...  1.049286  1.071758  1.082556   \n",
       "..        ...       ...       ...  ...       ...       ...       ...   \n",
       "495  1.017522  1.042987  1.051578  ...       NaN  0.956240  0.984190   \n",
       "496  1.017094  1.042665  1.051510  ...       NaN  0.955052  0.982451   \n",
       "497  1.016551  1.042589  1.051043  ...       NaN  0.954412  0.980686   \n",
       "498  1.015924  1.041990  1.048896  ...       NaN  0.953712  0.978747   \n",
       "499  1.015411  1.041599  1.050228  ...       NaN  0.952775  0.977111   \n",
       "\n",
       "           32        33        34        35        36        37        38  \n",
       "0    1.065647  1.072897  1.073279  1.078461  1.074521  1.080285  1.073539  \n",
       "1    1.069589  1.074119  1.074917  1.079322  1.076363  1.081616  1.075482  \n",
       "2    1.070322  1.074464  1.076030  1.081835  1.077149  1.082426  1.076341  \n",
       "3    1.072234  1.075239  1.076564  1.082127  1.076919  1.082781  1.076367  \n",
       "4    1.069982  1.075158  1.077193  1.082861  1.077425  1.082832  1.076983  \n",
       "..        ...       ...       ...       ...       ...       ...       ...  \n",
       "495  0.937571       NaN  0.933819       NaN  0.985581  0.922828       NaN  \n",
       "496  0.935226       NaN  0.931167       NaN  0.984172  0.921494       NaN  \n",
       "497  0.933872       NaN  0.929810       NaN  0.982880  0.919959       NaN  \n",
       "498  0.931615       NaN  0.927685       NaN  0.981604  0.918676       NaN  \n",
       "499  0.930279       NaN  0.925130       NaN  0.980016  0.917053       NaN  \n",
       "\n",
       "[500 rows x 37 columns]"
      ]
     },
     "execution_count": 5,
     "metadata": {},
     "output_type": "execute_result"
    }
   ],
   "source": [
    "data.iloc[0:500,:]"
   ]
  },
  {
   "cell_type": "code",
   "execution_count": 6,
   "id": "c69baa40",
   "metadata": {
    "scrolled": true
   },
   "outputs": [
    {
     "data": {
      "text/plain": [
       "[<matplotlib.lines.Line2D at 0x1935e69e640>,\n",
       " <matplotlib.lines.Line2D at 0x1935e69e700>,\n",
       " <matplotlib.lines.Line2D at 0x1935e69e7c0>,\n",
       " <matplotlib.lines.Line2D at 0x1935e69e880>,\n",
       " <matplotlib.lines.Line2D at 0x1935e69e940>,\n",
       " <matplotlib.lines.Line2D at 0x1935e69ea00>,\n",
       " <matplotlib.lines.Line2D at 0x1935e69eac0>,\n",
       " <matplotlib.lines.Line2D at 0x1935e69eb80>,\n",
       " <matplotlib.lines.Line2D at 0x1935e69ec40>,\n",
       " <matplotlib.lines.Line2D at 0x1935e69ed00>,\n",
       " <matplotlib.lines.Line2D at 0x1935e671b20>,\n",
       " <matplotlib.lines.Line2D at 0x1935e69ee50>,\n",
       " <matplotlib.lines.Line2D at 0x1935e69ef10>,\n",
       " <matplotlib.lines.Line2D at 0x1935e69efd0>,\n",
       " <matplotlib.lines.Line2D at 0x1935e6ab0d0>,\n",
       " <matplotlib.lines.Line2D at 0x1935e6ab190>,\n",
       " <matplotlib.lines.Line2D at 0x1935e6ab250>,\n",
       " <matplotlib.lines.Line2D at 0x1935e6ab310>,\n",
       " <matplotlib.lines.Line2D at 0x1935e6ab3d0>,\n",
       " <matplotlib.lines.Line2D at 0x1935e6ab490>,\n",
       " <matplotlib.lines.Line2D at 0x1935e6ab550>,\n",
       " <matplotlib.lines.Line2D at 0x1935e6ab610>,\n",
       " <matplotlib.lines.Line2D at 0x1935e6ab6d0>,\n",
       " <matplotlib.lines.Line2D at 0x1935e6ab790>,\n",
       " <matplotlib.lines.Line2D at 0x1935e6ab850>,\n",
       " <matplotlib.lines.Line2D at 0x1935e6ab910>,\n",
       " <matplotlib.lines.Line2D at 0x1935e6ab9d0>,\n",
       " <matplotlib.lines.Line2D at 0x1935e6aba90>,\n",
       " <matplotlib.lines.Line2D at 0x1935e6abb50>,\n",
       " <matplotlib.lines.Line2D at 0x1935e6abc10>,\n",
       " <matplotlib.lines.Line2D at 0x1935e6abcd0>,\n",
       " <matplotlib.lines.Line2D at 0x1935e6abd90>,\n",
       " <matplotlib.lines.Line2D at 0x1935e6abe50>,\n",
       " <matplotlib.lines.Line2D at 0x1935e6abf10>,\n",
       " <matplotlib.lines.Line2D at 0x1935e6abfd0>,\n",
       " <matplotlib.lines.Line2D at 0x1935e6b10d0>,\n",
       " <matplotlib.lines.Line2D at 0x1935e6b1190>]"
      ]
     },
     "execution_count": 6,
     "metadata": {},
     "output_type": "execute_result"
    },
    {
     "data": {
      "image/png": "[encoded data removed]",
      "text/plain": [
       "<Figure size 432x288 with 1 Axes>"
      ]
     },
     "metadata": {
      "needs_background": "light"
     },
     "output_type": "display_data"
    }
   ],
   "source": [
    "plt.plot(data)"
   ]
  },
  {
   "cell_type": "markdown",
   "id": "d449adc5",
   "metadata": {},
   "source": [
    "# 전처리"
   ]
  },
  {
   "cell_type": "code",
   "execution_count": 7,
   "id": "3871a6da",
   "metadata": {
    "scrolled": true
   },
   "outputs": [
    {
     "name": "stderr",
     "output_type": "stream",
     "text": [
      "C:\\ProgramData\\Anaconda3\\lib\\site-packages\\pandas\\core\\frame.py:4462: SettingWithCopyWarning: \n",
      "A value is trying to be set on a copy of a slice from a DataFrame\n",
      "\n",
      "See the caveats in the documentation: https://pandas.pydata.org/pandas-docs/stable/user_guide/indexing.html#returning-a-view-versus-a-copy\n",
      "  return super().fillna(\n"
     ]
    }
   ],
   "source": [
    "data_ = data.iloc[:,:16]\n",
    "data_.fillna(0,inplace = True)\n",
    "\n",
    "data_2 = data.iloc[:,:]\n",
    "data_2.fillna(0,inplace = True)\n",
    "\n",
    "b= (data_<=0.89).sum()\n",
    "data__ = []\n",
    "for i in range(16):\n",
    "    data__.append(data_.iloc[:len(data_)-(b[i]-1),i])\n",
    "    \n",
    "for i in range(len(data__)):\n",
    "    data__[i][len(data__[i])-1] = 0.89\n",
    "\n",
    "b2= (data_2<=0.89).sum()\n",
    "data__2 = []\n",
    "for i in range(37 ):\n",
    "    data__2.append(data_2.iloc[:len(data_2)-(b2[i]-1),i])\n",
    "    \n",
    "for i in range(len(data__2)):\n",
    "    data__2[i][len(data__2[i])-1] = 0.89\n",
    "\n",
    "data___2 = [i for i in range(((len(data__2))))]\n",
    "for i in range(0,len(data___2)):\n",
    "    data___2[i] = [None]\n",
    "for i in range(0,len(data___2)):\n",
    "    data___2[i]= [data__2[i][0:70].mean()-data__2[i][100:120].mean()]\n",
    "    data___2[i].append(data__2[i][0:50].mean()-data__2[i][200:220].mean())\n",
    "    data___2[i].append(data__2[i][0:50].mean()-data__2[i][300:320].mean())\n",
    "    data___2[i].append(data__2[i][0:50].mean()-data__2[i][400:420].mean())\n",
    "    data___2[i].append(data__2[i][0:50].mean()-data__2[i][450:460].mean())\n",
    "\n",
    "___y2= []\n",
    "for i in range(len(data__2)):\n",
    "    ___y2.append(len(data__2[i]))\n",
    "    \n",
    "data___ = [i for i in range(((len(data__))))]\n",
    "for i in range(0,len(data___)):\n",
    "    data___[i] = [None]\n",
    "for i in range(0,len(data___)):\n",
    "    data___[i]= [data__[i][0:70].mean()-data__[i][100:120].mean()]\n",
    "    data___[i].append(data__[i][0:50].mean()-data__[i][200:220].mean())\n",
    "    data___[i].append(data__[i][0:50].mean()-data__[i][300:320].mean())\n",
    "    data___[i].append(data__[i][0:50].mean()-data__[i][400:420].mean())\n",
    "    data___[i].append(data__[i][0:50].mean()-data__[i][540:550].mean())\n",
    "\n",
    "___y= []\n",
    "for i in range(len(data__)):\n",
    "    ___y.append(len(data__[i]))"
   ]
  },
  {
   "cell_type": "markdown",
   "id": "7a652c36",
   "metadata": {},
   "source": [
    "# RandomForest 사용"
   ]
  },
  {
   "cell_type": "code",
   "execution_count": 9,
   "id": "af10411d",
   "metadata": {
    "scrolled": false
   },
   "outputs": [
    {
     "data": {
      "text/plain": [
       "RandomForestClassifier(n_estimators=30, oob_score=True, random_state=123456)"
      ]
     },
     "execution_count": 9,
     "metadata": {},
     "output_type": "execute_result"
    }
   ],
   "source": [
    "rf = RandomForestClassifier(n_estimators=30, oob_score=True, random_state=123456)\n",
    "rf.fit(data___2[0:30], ___y2[0:30])"
   ]
  },
  {
   "cell_type": "code",
   "execution_count": 10,
   "id": "30014e8f",
   "metadata": {},
   "outputs": [],
   "source": [
    "predicted = rf.predict(data___2[30:])"
   ]
  },
  {
   "cell_type": "code",
   "execution_count": 11,
   "id": "eb5ac71c",
   "metadata": {
    "scrolled": true
   },
   "outputs": [
    {
     "name": "stdout",
     "output_type": "stream",
     "text": [
      "예측 RUL :  [513 451 513 486 513 553 451]\n",
      "실제 RUL :  [524, 470, 518, 480, 561, 519, 463]\n"
     ]
    }
   ],
   "source": [
    "print(\"예측 RUL : \",predicted)\n",
    "print(\"실제 RUL : \",___y2[30:])"
   ]
  },
  {
   "cell_type": "code",
   "execution_count": 18,
   "id": "c522d07d",
   "metadata": {},
   "outputs": [
    {
     "name": "stdout",
     "output_type": "stream",
     "text": [
      "mse =  8114.428571428572\n"
     ]
    }
   ],
   "source": [
    "mse = np.square(np.subtract(___y2[30:],predicted)).mean()\n",
    "print(\"mse = \",mse)"
   ]
  },
  {
   "cell_type": "markdown",
   "id": "9fcac305",
   "metadata": {},
   "source": [
    "# Voting 사용"
   ]
  },
  {
   "cell_type": "code",
   "execution_count": 13,
   "id": "26f93043",
   "metadata": {},
   "outputs": [
    {
     "data": {
      "text/plain": [
       "VotingClassifier(estimators=[('nc',\n",
       "                              GradientBoostingClassifier(max_depth=8,\n",
       "                                                         n_estimators=30,\n",
       "                                                         random_state=0)),\n",
       "                             ('rf', RandomForestClassifier(n_estimators=30)),\n",
       "                             ('dt', DecisionTreeClassifier(random_state=0))],\n",
       "                 voting='soft')"
      ]
     },
     "execution_count": 13,
     "metadata": {},
     "output_type": "execute_result"
    }
   ],
   "source": [
    "bc_clf =  GradientBoostingClassifier(n_estimators=30, learning_rate=0.1,max_depth=8, random_state=0)\n",
    "rnd_clf = RandomForestClassifier(n_estimators=30)\n",
    "dt_clf = DecisionTreeClassifier(random_state=0)\n",
    "\n",
    "voting_clf = VotingClassifier(estimators=[('nc',bc_clf),\n",
    "                                         ('rf',rnd_clf),\n",
    "                                         ('dt',dt_clf)],\n",
    "                             voting='soft')\n",
    "voting_clf.fit(data___2[0:30], ___y2[0:30])"
   ]
  },
  {
   "cell_type": "code",
   "execution_count": 14,
   "id": "7a45f9ae",
   "metadata": {},
   "outputs": [],
   "source": [
    "predicted = voting_clf.predict(data___2[30:])"
   ]
  },
  {
   "cell_type": "code",
   "execution_count": 15,
   "id": "196f1a94",
   "metadata": {
    "scrolled": true
   },
   "outputs": [
    {
     "name": "stdout",
     "output_type": "stream",
     "text": [
      "예측 RUL :  [513 451 608 485 778 488 451]\n",
      "실제 RUL :  [524, 470, 518, 480, 561, 519, 463]\n"
     ]
    }
   ],
   "source": [
    "print(\"예측 RUL : \",predicted)\n",
    "print(\"실제 RUL : \",___y2[30:])"
   ]
  },
  {
   "cell_type": "code",
   "execution_count": 17,
   "id": "afd5569d",
   "metadata": {},
   "outputs": [
    {
     "name": "stdout",
     "output_type": "stream",
     "text": [
      "mse =  8114.428571428572\n"
     ]
    }
   ],
   "source": [
    "mse = np.square(np.subtract(___y2[30:],predicted)).mean()\n",
    "print(\"mse = \",mse)"
   ]
  }
 ],
 "metadata": {
  "kernelspec": {
   "display_name": "Python 3",
   "language": "python",
   "name": "python3"
  },
  "language_info": {
   "codemirror_mode": {
    "name": "ipython",
    "version": 3
   },
   "file_extension": ".py",
   "mimetype": "text/x-python",
   "name": "python",
   "nbconvert_exporter": "python",
   "pygments_lexer": "ipython3",
   "version": "3.8.8"
  }
 },
 "nbformat": 4,
 "nbformat_minor": 5
}
